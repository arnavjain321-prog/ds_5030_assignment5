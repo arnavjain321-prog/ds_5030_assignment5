{
 "cells": [
  {
   "cell_type": "markdown",
   "id": "dd21efe9",
   "metadata": {},
   "source": [
    "# Assignment 5\n",
    "### Do all four questions."
   ]
  },
  {
   "cell_type": "markdown",
   "id": "1ee9b4e8",
   "metadata": {},
   "source": [
    "**1.** Let's review some basic matrix multiplication. When you have an $M \\times N$ matrix $A$ with $M$ rows and $N$ columns, \n",
    "$$\n",
    "A= \\left[ \\begin{array}{cccc} a_{11} & a_{12} & ... & a_{1N} \\\\\n",
    "a_{21} & a_{22} & ... & a_{2N} \\\\\n",
    "\\vdots & \\vdots & ... & \\vdots \\\\\n",
    "a_{M1} & a_{M2} & ... & a_{MN} \n",
    "\\end{array} \\right],\n",
    "$$\n",
    "and you right-multiply it by a vector\n",
    "$$\n",
    "x = \\left[ \\begin{array}{c} x_1 \\\\ x_2 \\\\ \\vdots \\\\ x_N \n",
    "\\end{array} \\right],\n",
    "$$\n",
    "you get\n",
    "$$\n",
    "Ax = \\left[ \\begin{array}{c} \\sum_{i=1}^N a_{1i} x_i \\\\ \\sum_{i=1}^N a_{2i} x_i \\\\ \\vdots \\\\ \\sum_{i=1}^N a_{Mi} x_i \n",
    "\\end{array} \\right].\n",
    "$$\n",
    "This is just \"matrix row times column vector\" element-by-element, stacking the results into a new vector.\n",
    "\n",
    "For this to make sense, $N$ must be the same for the matrix and the vector, but $M$ can be different from $N$. \n",
    "\n",
    "Let's play with some NumPy to see this. First we'll define a matrix $A$:"
   ]
  },
  {
   "cell_type": "code",
   "execution_count": 22,
   "id": "33df3579",
   "metadata": {},
   "outputs": [
    {
     "data": {
      "text/plain": [
       "array([[1, 2, 3],\n",
       "       [4, 5, 6],\n",
       "       [7, 8, 9]])"
      ]
     },
     "execution_count": 22,
     "metadata": {},
     "output_type": "execute_result"
    }
   ],
   "source": [
    "import numpy as np\n",
    "\n",
    "A = np.array([ [1,2,3],\n",
    "              [4,5,6],\n",
    "              [7,8,9]])\n",
    "A"
   ]
  },
  {
   "cell_type": "markdown",
   "id": "94b1b3ac",
   "metadata": {},
   "source": [
    "a. Multiply $A$ times each of the following vectors using the @ operator. Explain which part of the $A$ matrix gets selected and explain why, using the definition of matrix multiplication. "
   ]
  },
  {
   "cell_type": "code",
   "execution_count": 23,
   "id": "5b6148d2",
   "metadata": {},
   "outputs": [],
   "source": [
    "e_1 = np.array([1,0,0])\n",
    "e_2 = np.array([0,1,0])\n",
    "e_3 = np.array([0,0,1])"
   ]
  },
  {
   "cell_type": "code",
   "execution_count": 27,
   "id": "64262360",
   "metadata": {},
   "outputs": [
    {
     "name": "stdout",
     "output_type": "stream",
     "text": [
      "[1 4 7]\n",
      "[2 5 8]\n",
      "[3 6 9]\n"
     ]
    }
   ],
   "source": [
    "print(A @ e_1)\n",
    "print(A @ e_2)\n",
    "print(A @ e_3)"
   ]
  },
  {
   "cell_type": "markdown",
   "id": "0cbd9d44",
   "metadata": {},
   "source": [
    "When multiplying A by e1, e2, and e3, the results are the first, second, and third columns of A, respectively. This is because matrix-vector multiplication combines columns of A weighted by the elements of the vector, and each standard basis vector has a 1 in a single position, selecting only that column.\n"
   ]
  },
  {
   "cell_type": "markdown",
   "id": "72a4704e",
   "metadata": {},
   "source": [
    "b. Now multiply $A$ times $u = (1,1,1)$. Explain the logic of the result with the definition of matrix multiplication."
   ]
  },
  {
   "cell_type": "code",
   "execution_count": 31,
   "id": "5bf73f9b",
   "metadata": {},
   "outputs": [
    {
     "name": "stdout",
     "output_type": "stream",
     "text": [
      "A =\n",
      " [[1 2 3]\n",
      " [4 5 6]\n",
      " [7 8 9]]\n",
      "u = [1. 1. 1.]\n",
      "A @ u = [ 6. 15. 24.]\n"
     ]
    }
   ],
   "source": [
    "u = np.ones(3)\n",
    "result = A @ u\n",
    "\n",
    "print(\"A =\\n\", A)\n",
    "print(\"u =\", u)\n",
    "print(\"A @ u =\", result)\n"
   ]
  },
  {
   "cell_type": "markdown",
   "id": "0c94b5c4",
   "metadata": {},
   "source": [
    "When multiplying \\( A \\) by \\( u = (1, 1, 1) \\), the result is \\([6, 15, 24]\\).\n",
    "\n",
    "This happens because each row of \\( A \\) is dotted with the vector \\( u \\). Since \\( u \\) is a vector of ones, the dot product simply adds up the elements in each row of \\( A \\). Therefore, each entry in the resulting vector corresponds to the sum of a row of \\( A \\)."
   ]
  },
  {
   "cell_type": "markdown",
   "id": "dde75eab",
   "metadata": {},
   "source": [
    "c. Whenever a matrix has 1's on the diagonal and zeros everywhere else, we call it an **identity matrix**. What happens when you multiple $A$ times $x$ below? What happens when you multiple an identity matrix times any vector? Explain your result with the definition of matrix multiplication."
   ]
  },
  {
   "cell_type": "code",
   "execution_count": 32,
   "id": "b0d349c4",
   "metadata": {},
   "outputs": [],
   "source": [
    "A = np.array([ [1,0,0],\n",
    "              [0,1,0],\n",
    "              [0,0,1]])\n",
    "x = np.array([-2,4,11])\n"
   ]
  },
  {
   "cell_type": "code",
   "execution_count": 33,
   "id": "13b6b772",
   "metadata": {},
   "outputs": [
    {
     "name": "stdout",
     "output_type": "stream",
     "text": [
      "A =\n",
      " [[1 0 0]\n",
      " [0 1 0]\n",
      " [0 0 1]]\n",
      "x = [-2  4 11]\n",
      "A @ x = [-2  4 11]\n"
     ]
    }
   ],
   "source": [
    "result = A @ x\n",
    "\n",
    "print(\"A =\\n\", A)\n",
    "print(\"x =\", x)\n",
    "print(\"A @ x =\", result)\n"
   ]
  },
  {
   "cell_type": "markdown",
   "id": "563a9bc6",
   "metadata": {},
   "source": [
    "When multiplying an identity matrix by x = (−2, 4, 11), the result is [−2, 4, 11]. This happens because each row of the identity matrix contains a single 1 in the position corresponding to one component of x, and zeros elsewhere. Therefore, the dot product of each row with x simply picks out the respective component. Multiplying any vector by an identity matrix always returns the original vector.\n"
   ]
  },
  {
   "cell_type": "markdown",
   "id": "57141925",
   "metadata": {},
   "source": [
    "d. What if every row and column sum to 1, but the 1's are no longer on the diagonal? Multiple $A$ times $X$ below and explain the result. Create another matrix whose rows and columns sum to 1, but is not an identity matrix, and show how it permutes the values of $x$. "
   ]
  },
  {
   "cell_type": "code",
   "execution_count": 8,
   "id": "83a9ed11",
   "metadata": {},
   "outputs": [],
   "source": [
    "A = np.array([ [0,0,1],\n",
    "              [1,0,0],\n",
    "              [0,1,0]])\n",
    "x = np.array([-2,4,11])\n"
   ]
  },
  {
   "cell_type": "code",
   "execution_count": 9,
   "id": "c24285ee",
   "metadata": {},
   "outputs": [
    {
     "name": "stdout",
     "output_type": "stream",
     "text": [
      "A =\n",
      " [[0 0 1]\n",
      " [1 0 0]\n",
      " [0 1 0]]\n",
      "x = [-2  4 11]\n",
      "A @ x = [11 -2  4]\n"
     ]
    }
   ],
   "source": [
    "result = A @ x\n",
    "\n",
    "print(\"A =\\n\", A)\n",
    "print(\"x =\", x)\n",
    "print(\"A @ x =\", result)"
   ]
  },
  {
   "cell_type": "markdown",
   "id": "04417a82",
   "metadata": {},
   "source": [
    "When multiplying A by x, the result is [11, −2, 4]. This happens because A is a permutation matrix: each row has exactly one 1, but they are not on the diagonal. Each row “selects” a different element of x, effectively reordering its values. Row 1 picks x₃, row 2 picks x₁, and row 3 picks x₂. In general, multiplying a permutation matrix by a vector does not change the values, only their order.\n"
   ]
  },
  {
   "cell_type": "markdown",
   "id": "611c26c3",
   "metadata": {},
   "source": [
    "e. The next matrix $A$ could be a Markov transition matrix: Its columns sum to 1, and each entry $a_{ij}$ can be interpreted as the proportion of observations who moved from state $j$ to state $i$. Multiply $A$ by each of the vectors $e_1$, $e_2$, and $e_3$, and explain your results."
   ]
  },
  {
   "cell_type": "code",
   "execution_count": 34,
   "id": "aff4fb97",
   "metadata": {},
   "outputs": [
    {
     "name": "stdout",
     "output_type": "stream",
     "text": [
      "[[0.50052958 0.24049286 0.18358131]\n",
      " [0.02574731 0.39251588 0.37907577]\n",
      " [0.47372311 0.36699127 0.43734292]]\n"
     ]
    }
   ],
   "source": [
    "rng = np.random.default_rng(100)\n",
    "A = rng.random((3,3)) # Generate a random 3X3 matrix\n",
    "sums = np.sum(A,axis=0) # Column sums\n",
    "A = A/sums # Normalize the columns so they sum to 1\n",
    "print(A)"
   ]
  },
  {
   "cell_type": "code",
   "execution_count": null,
   "id": "4c8cd36e",
   "metadata": {},
   "outputs": [
    {
     "name": "stdout",
     "output_type": "stream",
     "text": [
      "A @ e1 = [0.50052958 0.02574731 0.47372311]\n",
      "A @ e2 = [0.24049286 0.39251588 0.36699127]\n",
      "A @ e3 = [0.18358131 0.37907577 0.43734292]\n"
     ]
    }
   ],
   "source": [
    "e1 = np.array([1,0,0])\n",
    "e2 = np.array([0,1,0])\n",
    "e3 = np.array([0,0,1])\n",
    "\n",
    "print(\"A @ e1 =\", A @ e1)  \n",
    "print(\"A @ e2 =\", A @ e2)  \n",
    "print(\"A @ e3 =\", A @ e3)  \n"
   ]
  },
  {
   "cell_type": "markdown",
   "id": "40c6d1d3",
   "metadata": {},
   "source": [
    "When multiplying A by e1, e2, and e3, the results are the first, second, and third columns of A, respectively. In a column-stochastic (Markov) matrix, column j gives the next-state distribution if you start entirely in state j, so A @ e1, A @ e2, and A @ e3 are exactly those three distributions."
   ]
  },
  {
   "cell_type": "markdown",
   "id": "0647bfa7",
   "metadata": {},
   "source": [
    "f. For each of the vectors $e_1, e_2, e_3$, multiple $A$ times that vector 5 times. What answer do you get for each starting vector? Describe the behavior you observe."
   ]
  },
  {
   "cell_type": "code",
   "execution_count": 36,
   "id": "efb703f6",
   "metadata": {},
   "outputs": [
    {
     "name": "stdout",
     "output_type": "stream",
     "text": [
      "[0.29266551 0.27862515 0.42870935]\n",
      "[0.29197422 0.27979983 0.42822595]\n",
      "[0.29171646 0.2802254  0.42805814]\n"
     ]
    }
   ],
   "source": [
    "n = 5\n",
    "for e in [e1, e2, e3]:\n",
    "    p = e\n",
    "    for _ in range(n):\n",
    "        p = A @ p\n",
    "    print(p)\n"
   ]
  },
  {
   "cell_type": "markdown",
   "id": "f75d2de2",
   "metadata": {},
   "source": [
    "All starting vectors converge to approximately the same stationary distribution after several multiplications by the transition matrix. This means the system’s long-run behavior is independent of where it starts. In other words, the Markov chain stabilizes, and each state settles into a fixed long-term probability."
   ]
  },
  {
   "cell_type": "markdown",
   "id": "fa2c9a93",
   "metadata": {},
   "source": [
    "*2.* Let's consider a simple Markov transition matrix over two states:\n",
    "$$\n",
    "T = \\left[ \\begin{array}{cc} p_{1\\leftarrow 1} &  p_{1\\leftarrow 2} \\\\\n",
    "p_{2 \\leftarrow 1} & p_{2 \\leftarrow 2} \\end{array}\\right] \n",
    "$$\n",
    "The arrows help visualize the transition a bit: This is the same index notation as usual, $p_{ij}$, but writing it $p_{i \\leftarrow j}$ emphasizes that it's the proportion of times that state $j$ transitions to state $i$. Below, $T$ is given by\n",
    "$$\n",
    "T = \\left[ \\begin{array}{cc} .25 & .5 \\\\\n",
    ".75 & .5 \\end{array}\\right].\n",
    "$$\n",
    "\n",
    "- Start in state 1, at the initial condition $[1,0]$. Multiply that vector by $T$. Write out the result in terms of the formula and compute the result in a code chunk below. What is this object you're looking at, in terms of proportions and transitions?\n",
    "- Multiple by $T$ again. What do you get? This isn't a column of $T$. Explain in words what it is. (Hint: A forecast of what in what period?)\n",
    "- Keep multiplying the current vector of outcomes by $T$. When does it start to settle down without changing further?\n",
    "- Do the above analysis again, starting from the initial condition $[0,1]$. Do you get a different result?\n",
    "- The take-away is that, in the long run, these chains settle down into the long-run proportions, and the sensitivity on initial conditions vanishes. \n"
   ]
  },
  {
   "cell_type": "code",
   "execution_count": 51,
   "id": "4b6a775f",
   "metadata": {},
   "outputs": [],
   "source": [
    "T = np.array([[1/4, 1/2],\n",
    "              [3/4, 1/2]])\n"
   ]
  },
  {
   "cell_type": "code",
   "execution_count": 52,
   "id": "714acda5",
   "metadata": {},
   "outputs": [
    {
     "data": {
      "text/plain": [
       "array([[0.25, 0.5 ],\n",
       "       [0.75, 0.5 ]])"
      ]
     },
     "execution_count": 52,
     "metadata": {},
     "output_type": "execute_result"
    }
   ],
   "source": [
    "T"
   ]
  },
  {
   "cell_type": "code",
   "execution_count": 53,
   "id": "d04fff73",
   "metadata": {},
   "outputs": [
    {
     "name": "stdout",
     "output_type": "stream",
     "text": [
      "[1 0]\n"
     ]
    }
   ],
   "source": [
    "init_condition = np.array([1,0])\n",
    "print(init_condition)"
   ]
  },
  {
   "cell_type": "code",
   "execution_count": 54,
   "id": "9ca360c1",
   "metadata": {},
   "outputs": [
    {
     "name": "stdout",
     "output_type": "stream",
     "text": [
      "[0.25 0.75]\n"
     ]
    }
   ],
   "source": [
    "p_1 = T @ init_condition\n",
    "print(p_1)"
   ]
  },
  {
   "cell_type": "markdown",
   "id": "a26fbb60",
   "metadata": {},
   "source": [
    "The result p1 = [0.25, 0.75] represents the probability distribution of being in each state after one step. \n",
    "Starting entirely in state 1 (p0 = [1, 0]), there is a 25% chance of being in state 1 and a 75% chance of being in state 2 after one transition. \n",
    "This is a one-step forecast of state occupancy based on the transition matrix T."
   ]
  },
  {
   "cell_type": "code",
   "execution_count": 55,
   "id": "bef84bbf",
   "metadata": {},
   "outputs": [
    {
     "name": "stdout",
     "output_type": "stream",
     "text": [
      "[0.4375 0.5625]\n"
     ]
    }
   ],
   "source": [
    "p_2 = T @ p_1\n",
    "print(p_2)"
   ]
  },
  {
   "cell_type": "markdown",
   "id": "dde77886",
   "metadata": {},
   "source": [
    "The result p2 = [0.4375, 0.5625] is the probability distribution after two transitions. \n",
    "It represents a two-step forecast of being in each state. \n",
    "Even though we started in state 1, after two steps the distribution has shifted further toward the long-run proportions of the chain. \n",
    "This is not a column of T—it’s the result of applying T twice, forecasting two periods into the future.\n"
   ]
  },
  {
   "cell_type": "code",
   "execution_count": 56,
   "id": "d7ebdbc9",
   "metadata": {},
   "outputs": [
    {
     "name": "stdout",
     "output_type": "stream",
     "text": [
      "[1 0]\n",
      "[0.25 0.75]\n",
      "[0.4375 0.5625]\n",
      "[0.390625 0.609375]\n",
      "[0.40234375 0.59765625]\n",
      "[0.39941406 0.60058594]\n",
      "[0.40014648 0.59985352]\n",
      "[0.39996338 0.60003662]\n",
      "[0.40000916 0.59999084]\n",
      "[0.39999771 0.60000229]\n",
      "[0.40000057 0.59999943]\n",
      "[0.39999986 0.60000014]\n",
      "[0.40000004 0.59999996]\n",
      "[0.39999999 0.60000001]\n",
      "[0.4 0.6]\n",
      "[0.4 0.6]\n",
      "[0.4 0.6]\n",
      "[0.4 0.6]\n",
      "[0.4 0.6]\n",
      "[0.4 0.6]\n",
      "[0.4 0.6]\n",
      "[0.4 0.6]\n",
      "[0.4 0.6]\n",
      "[0.4 0.6]\n",
      "[0.4 0.6]\n",
      "[0.4 0.6]\n",
      "[0.4 0.6]\n",
      "[0.4 0.6]\n",
      "[0.4 0.6]\n",
      "[0.4 0.6]\n",
      "[0.4 0.6]\n",
      "[0.4 0.6]\n",
      "[0.4 0.6]\n",
      "[0.4 0.6]\n",
      "[0.4 0.6]\n",
      "[0.4 0.6]\n",
      "[0.4 0.6]\n",
      "[0.4 0.6]\n",
      "[0.4 0.6]\n",
      "[0.4 0.6]\n",
      "[0.4 0.6]\n",
      "[0.4 0.6]\n",
      "[0.4 0.6]\n",
      "[0.4 0.6]\n",
      "[0.4 0.6]\n",
      "[0.4 0.6]\n",
      "[0.4 0.6]\n",
      "[0.4 0.6]\n",
      "[0.4 0.6]\n",
      "[0.4 0.6]\n",
      "[0.4 0.6]\n",
      "[0.4 0.6]\n",
      "[0.4 0.6]\n",
      "[0.4 0.6]\n",
      "[0.4 0.6]\n",
      "[0.4 0.6]\n",
      "[0.4 0.6]\n",
      "[0.4 0.6]\n",
      "[0.4 0.6]\n",
      "[0.4 0.6]\n",
      "[0.4 0.6]\n",
      "[0.4 0.6]\n",
      "[0.4 0.6]\n",
      "[0.4 0.6]\n",
      "[0.4 0.6]\n",
      "[0.4 0.6]\n",
      "[0.4 0.6]\n",
      "[0.4 0.6]\n",
      "[0.4 0.6]\n",
      "[0.4 0.6]\n",
      "[0.4 0.6]\n",
      "[0.4 0.6]\n",
      "[0.4 0.6]\n",
      "[0.4 0.6]\n",
      "[0.4 0.6]\n",
      "[0.4 0.6]\n",
      "[0.4 0.6]\n",
      "[0.4 0.6]\n",
      "[0.4 0.6]\n",
      "[0.4 0.6]\n",
      "[0.4 0.6]\n",
      "[0.4 0.6]\n",
      "[0.4 0.6]\n",
      "[0.4 0.6]\n",
      "[0.4 0.6]\n",
      "[0.4 0.6]\n",
      "[0.4 0.6]\n",
      "[0.4 0.6]\n",
      "[0.4 0.6]\n",
      "[0.4 0.6]\n",
      "[0.4 0.6]\n",
      "[0.4 0.6]\n",
      "[0.4 0.6]\n",
      "[0.4 0.6]\n",
      "[0.4 0.6]\n",
      "[0.4 0.6]\n",
      "[0.4 0.6]\n",
      "[0.4 0.6]\n",
      "[0.4 0.6]\n",
      "[0.4 0.6]\n"
     ]
    }
   ],
   "source": [
    "n = 100\n",
    "p = np.array([1,0])\n",
    "for t in range(n):\n",
    "    print(p)\n",
    "    p = T @ p\n"
   ]
  },
  {
   "cell_type": "markdown",
   "id": "1d764a6d",
   "metadata": {},
   "source": [
    "By repeatedly multiplying the vector by T, the distribution quickly approaches a fixed point. The values settle at [0.4, 0.6] and stop changing. This shows that the Markov chain has converged to its stationary distribution, where further multiplications do not affect the result.\n"
   ]
  },
  {
   "cell_type": "code",
   "execution_count": 64,
   "id": "c757aed9",
   "metadata": {},
   "outputs": [],
   "source": [
    "n = 100\n",
    "state = 0\n",
    "sim = []\n",
    "for t in range(n):\n",
    "    sim.append(state)\n",
    "    prob = T[:,state]\n",
    "    state = np.random.choice(a = [0,1], p=prob)"
   ]
  },
  {
   "cell_type": "code",
   "execution_count": 65,
   "id": "3f0747ac",
   "metadata": {},
   "outputs": [
    {
     "data": {
      "text/plain": [
       "np.float64(0.61)"
      ]
     },
     "execution_count": 65,
     "metadata": {},
     "output_type": "execute_result"
    }
   ],
   "source": [
    "x = np.array(sim)\n",
    "np.mean(x)"
   ]
  },
  {
   "cell_type": "markdown",
   "id": "9c4416c7",
   "metadata": {},
   "source": [
    "I simulated a single 100-step path of the Markov chain by sampling the next state with probabilities T[:, state] each step (starting from state 1 for the [0,1] initial condition). The sample mean of the state indicator was about 0.61, which is close to the theoretical long-run probability of state 1, 0.6. Because this is a random path, the estimate varies run-to-run; increasing n makes the average concentrate near 0.6. In the long run, the simulated fraction of time in each state approaches the stationary distribution.\n"
   ]
  },
  {
   "cell_type": "markdown",
   "id": "921592e9",
   "metadata": {},
   "source": [
    "3. Weather data\n",
    "\n",
    "- Load the `cville_weather.csv` data. This includes data from Jan 4, 2024 to Feb 2, 2025. Are there any missing data issues?\n",
    "- Based on the precipitation variable, `PRCP`, make a new variable called `rain` that takes the value 1 if `PRCP`>0 and 0 otherwise.\n",
    "- Build a two-state Markov chain over the states 0 and 1 for the `rain` variable. \n",
    "- For your chain from c, how likely is it to rain if it was rainy yesterday? How likely is it to rain if it was clear yesterday?\n",
    "- Starting from a clear day, forecast the distribution. How quickly does it converge to a fixed result? What if you start from a rainy day?\n",
    "- Conditional on being rainy, plot a KDE of the `PRCP` variable.\n",
    "- Describe one way of making your model better for forecasting and simulation the weather.\n",
    "\n",
    "Congratulations, you now are a non-parametric meteorologist!"
   ]
  },
  {
   "cell_type": "code",
   "execution_count": 85,
   "id": "c1621263",
   "metadata": {},
   "outputs": [
    {
     "name": "stdout",
     "output_type": "stream",
     "text": [
      "<class 'pandas.core.frame.DataFrame'>\n",
      "RangeIndex: 411 entries, 0 to 410\n",
      "Data columns (total 13 columns):\n",
      " #   Column           Non-Null Count  Dtype  \n",
      "---  ------           --------------  -----  \n",
      " 0   STATION          411 non-null    object \n",
      " 1   NAME             411 non-null    object \n",
      " 2   DATE             411 non-null    object \n",
      " 3   DAPR             12 non-null     float64\n",
      " 4   DAPR_ATTRIBUTES  12 non-null     object \n",
      " 5   MDPR             12 non-null     float64\n",
      " 6   MDPR_ATTRIBUTES  12 non-null     object \n",
      " 7   PRCP             399 non-null    float64\n",
      " 8   PRCP_ATTRIBUTES  399 non-null    object \n",
      " 9   SNOW             223 non-null    float64\n",
      " 10  SNOW_ATTRIBUTES  223 non-null    object \n",
      " 11  SNWD             1 non-null      float64\n",
      " 12  SNWD_ATTRIBUTES  1 non-null      object \n",
      "dtypes: float64(5), object(8)\n",
      "memory usage: 41.9+ KB\n",
      "None\n",
      "\n",
      "Missing values per column:\n",
      "STATION              0\n",
      "NAME                 0\n",
      "DATE                 0\n",
      "DAPR               399\n",
      "DAPR_ATTRIBUTES    399\n",
      "MDPR               399\n",
      "MDPR_ATTRIBUTES    399\n",
      "PRCP                12\n",
      "PRCP_ATTRIBUTES     12\n",
      "SNOW               188\n",
      "SNOW_ATTRIBUTES    188\n",
      "SNWD               410\n",
      "SNWD_ATTRIBUTES    410\n",
      "dtype: int64\n"
     ]
    }
   ],
   "source": [
    "import pandas as pd\n",
    "\n",
    "weather = pd.read_csv(\"cville_weather.csv\")\n",
    "\n",
    "print(weather.info())\n",
    "print(\"\\nMissing values per column:\")\n",
    "print(weather.isna().sum())\n"
   ]
  },
  {
   "cell_type": "markdown",
   "id": "5d8f4fdd",
   "metadata": {},
   "source": [
    "The dataset contains 411 rows and 13 columns. Several columns have missing data: \"SNWD\" is almost entirely missing (410 out of 411 values), \"DAPR\" and \"MDPR\" have 399 missing values, and \"SNOW\" has 188 missing values. Only \"DATE\", \"STATION\", and \"NAME\" are fully complete. These missing values should be addressed (e.g., dropped, imputed, or ignored) before applying any Markov chain or time series analysis to avoid bias or discontinuities."
   ]
  },
  {
   "cell_type": "code",
   "execution_count": 88,
   "id": "4a203416",
   "metadata": {},
   "outputs": [
    {
     "data": {
      "text/html": [
       "<div>\n",
       "<style scoped>\n",
       "    .dataframe tbody tr th:only-of-type {\n",
       "        vertical-align: middle;\n",
       "    }\n",
       "\n",
       "    .dataframe tbody tr th {\n",
       "        vertical-align: top;\n",
       "    }\n",
       "\n",
       "    .dataframe thead th {\n",
       "        text-align: right;\n",
       "    }\n",
       "</style>\n",
       "<table border=\"1\" class=\"dataframe\">\n",
       "  <thead>\n",
       "    <tr style=\"text-align: right;\">\n",
       "      <th></th>\n",
       "      <th>DATE</th>\n",
       "      <th>PRCP</th>\n",
       "      <th>rain</th>\n",
       "    </tr>\n",
       "  </thead>\n",
       "  <tbody>\n",
       "    <tr>\n",
       "      <th>0</th>\n",
       "      <td>2024-01-04</td>\n",
       "      <td>0.03</td>\n",
       "      <td>1</td>\n",
       "    </tr>\n",
       "    <tr>\n",
       "      <th>1</th>\n",
       "      <td>2024-01-07</td>\n",
       "      <td>1.08</td>\n",
       "      <td>1</td>\n",
       "    </tr>\n",
       "    <tr>\n",
       "      <th>2</th>\n",
       "      <td>2024-01-09</td>\n",
       "      <td>0.24</td>\n",
       "      <td>1</td>\n",
       "    </tr>\n",
       "    <tr>\n",
       "      <th>3</th>\n",
       "      <td>2024-01-10</td>\n",
       "      <td>3.00</td>\n",
       "      <td>1</td>\n",
       "    </tr>\n",
       "    <tr>\n",
       "      <th>4</th>\n",
       "      <td>2024-01-24</td>\n",
       "      <td>0.00</td>\n",
       "      <td>0</td>\n",
       "    </tr>\n",
       "  </tbody>\n",
       "</table>\n",
       "</div>"
      ],
      "text/plain": [
       "         DATE  PRCP  rain\n",
       "0  2024-01-04  0.03     1\n",
       "1  2024-01-07  1.08     1\n",
       "2  2024-01-09  0.24     1\n",
       "3  2024-01-10  3.00     1\n",
       "4  2024-01-24  0.00     0"
      ]
     },
     "execution_count": 88,
     "metadata": {},
     "output_type": "execute_result"
    }
   ],
   "source": [
    "weather[\"rain\"] = (weather[\"PRCP\"].fillna(0) > 0).astype(int)\n",
    "weather[[\"DATE\",\"PRCP\",\"rain\"]].head()"
   ]
  },
  {
   "cell_type": "code",
   "execution_count": 92,
   "id": "78f88ee8",
   "metadata": {},
   "outputs": [
    {
     "name": "stdout",
     "output_type": "stream",
     "text": [
      "Transition Counts:\n",
      " [[169  63]\n",
      " [ 62 116]]\n",
      "\n",
      "Transition Probabilities:\n",
      " [[0.732 0.352]\n",
      " [0.268 0.648]]\n"
     ]
    },
    {
     "data": {
      "text/plain": [
       "(np.float64(0.2683982683982684), np.float64(0.6480446927374302))"
      ]
     },
     "execution_count": 92,
     "metadata": {},
     "output_type": "execute_result"
    }
   ],
   "source": [
    "r = weather[\"rain\"].to_numpy()\n",
    "\n",
    "C = np.zeros((2,2), dtype=float)\n",
    "for t in range(len(r)-1):\n",
    "    i, j = int(r[t]), int(r[t+1])\n",
    "    C[j, i] += 1\n",
    "\n",
    "T = C / C.sum(axis=0, keepdims=True)\n",
    "\n",
    "print(\"Transition Counts:\\n\", C.astype(int))\n",
    "print(\"\\nTransition Probabilities:\\n\", np.round(T, 3))\n",
    "\n",
    "p_rain_given_clear = T[1,0]\n",
    "p_rain_given_rain  = T[1,1]\n",
    "p_clear_given_clear = T[0,0]\n",
    "p_clear_given_rain  = T[0,1]\n",
    "\n",
    "p_rain_given_clear, p_rain_given_rain\n"
   ]
  },
  {
   "cell_type": "code",
   "execution_count": 93,
   "id": "a28ee1f2",
   "metadata": {},
   "outputs": [
    {
     "name": "stdout",
     "output_type": "stream",
     "text": [
      "P(rain | clear) = 0.268\n",
      "P(rain | rain)  = 0.648\n"
     ]
    }
   ],
   "source": [
    "print(\"P(rain | clear) =\", round(p_rain_given_clear, 3))\n",
    "print(\"P(rain | rain)  =\", round(p_rain_given_rain, 3))"
   ]
  },
  {
   "cell_type": "markdown",
   "id": "8f8b000c",
   "metadata": {},
   "source": [
    "where state 0 represents no rain and state 1 represents rain.\n",
    "\n",
    "If it’s dry today, there’s a 26.8% chance it will rain tomorrow.\n",
    "\n",
    "If it’s rainy today, there’s a 64.8% chance it will rain again tomorrow."
   ]
  },
  {
   "cell_type": "code",
   "execution_count": 105,
   "id": "d872fad3",
   "metadata": {},
   "outputs": [
    {
     "name": "stdout",
     "output_type": "stream",
     "text": [
      "Start from clear day [1, 0]\n",
      "Step 1: [0.73160173 0.26839827]\n",
      "Step 2: [0.62970529 0.37029471]\n",
      "Step 5: [0.57075852 0.42924148]\n",
      "Step 10: [0.56737321 0.43262679]\n",
      "Step 14: [0.56734686 0.43265314]\n"
     ]
    }
   ],
   "source": [
    "p = np.array([1.0, 0.0])\n",
    "print(\"Start from clear day [1, 0]\")\n",
    "\n",
    "for step in range(1, 15):\n",
    "    p = T @ p\n",
    "    if step in [1, 2, 5, 10, 14]:\n",
    "        print(f\"Step {step}: {p}\")\n"
   ]
  },
  {
   "cell_type": "code",
   "execution_count": 106,
   "id": "f05c660f",
   "metadata": {},
   "outputs": [
    {
     "name": "stdout",
     "output_type": "stream",
     "text": [
      "\n",
      "Start from rainy day [0, 1]\n",
      "Step 1: [0.35195531 0.64804469]\n",
      "Step 2: [0.48557388 0.51442612]\n",
      "Step 5: [0.5628718 0.4371282]\n",
      "Step 10: [0.56731101 0.43268899]\n",
      "Step 14: [0.56734557 0.43265443]\n"
     ]
    }
   ],
   "source": [
    "q = np.array([0.0, 1.0])\n",
    "print(\"\\nStart from rainy day [0, 1]\")\n",
    "\n",
    "for step in range(1, 15):\n",
    "    q = T @ q\n",
    "    if step in [1, 2, 5, 10, 14]:\n",
    "        print(f\"Step {step}: {q}\")\n"
   ]
  },
  {
   "cell_type": "markdown",
   "id": "e335a785",
   "metadata": {},
   "source": [
    "We start with a one-hot vector for clear and rainy states and repeatedly multiply by the transition matrix T. \n",
    "We inspect the forecasts at steps 1, 2, 5, 10, and 14. In both cases, the distribution stabilizes around [0.568, 0.432], \n",
    "the stationary distribution, regardless of the starting condition. This matches the behavior of a connected, ergodic Markov chain.\n"
   ]
  },
  {
   "cell_type": "code",
   "execution_count": 97,
   "id": "eb633022",
   "metadata": {},
   "outputs": [
    {
     "data": {
      "image/png": "[encoded data removed]",
      "text/plain": [
       "<Figure size 640x480 with 1 Axes>"
      ]
     },
     "metadata": {},
     "output_type": "display_data"
    }
   ],
   "source": [
    "import matplotlib.pyplot as plt\n",
    "from scipy.stats import gaussian_kde\n",
    "prcp_rain = weather.loc[weather[\"rain\"]==1, \"PRCP\"].dropna().to_numpy()\n",
    "\n",
    "grid = np.linspace(prcp_rain.min(), prcp_rain.max(), 200)\n",
    "kde  = gaussian_kde(prcp_rain)\n",
    "\n",
    "plt.figure()\n",
    "plt.plot(grid, kde(grid))\n",
    "plt.xlabel(\"PRCP\")\n",
    "plt.ylabel(\"Density\")\n",
    "plt.title(\"KDE of PRCP | rain = 1\")\n",
    "plt.show()\n"
   ]
  },
  {
   "cell_type": "markdown",
   "id": "e652a24e",
   "metadata": {},
   "source": [
    "A simple improvement is to allow the transition probabilities to vary by season or month (time-inhomogeneous Markov chain). Estimating \"T\" separately for each month would capture seasonal differences in rain persistence instead of assuming one stationary matrix for the entire year."
   ]
  },
  {
   "cell_type": "markdown",
   "id": "b953c2c4",
   "metadata": {},
   "source": [
    "4. Taxicab trajectories: Using the pickled taxicab data, we want to complete the exercise from class.\n",
    "\n",
    "- For the taxicab trajectory data, determine your state space and clean your sequences of cab rides.\n",
    "- Compute the transition matrix for the taxicab data between neighborhoods in Manhattan. Plot it in a heat map. What are the most common routes?\n",
    "- Explain why taxicabs are most likely order 1, and not 2 or more.\n",
    "- Starting at Hell's Kitchen, create a sequence of forecasts of where the cab is likely to be in 2, 3, 5, and 10 trips\n",
    "- Starting at any neighborhood, iterate your forecast until it is no longer changing very much. Where do cabs spend most of their time working in Manhattan?"
   ]
  },
  {
   "cell_type": "code",
   "execution_count": 10,
   "id": "b57b275a",
   "metadata": {},
   "outputs": [],
   "source": [
    "import numpy as np\n",
    "import pandas as pd\n",
    "import seaborn as sns\n",
    "\n",
    "import pickle"
   ]
  },
  {
   "cell_type": "code",
   "execution_count": 11,
   "id": "2a4c8ccc",
   "metadata": {},
   "outputs": [
    {
     "data": {
      "text/plain": [
       "1000"
      ]
     },
     "execution_count": 11,
     "metadata": {},
     "output_type": "execute_result"
    }
   ],
   "source": [
    "with open('taxicab.pkl','rb') as f:\n",
    "    data = pickle.load(f)\n",
    "\n",
    "len(data)"
   ]
  },
  {
   "cell_type": "code",
   "execution_count": 12,
   "id": "3bcb0052",
   "metadata": {},
   "outputs": [],
   "source": [
    "states = set(data[0])\n",
    "\n",
    "for i in range(1,len(data)):\n",
    "    new_trip = data[i]\n",
    "    new_states = set(new_trip)\n",
    "    states = states.union(new_states)\n",
    "states = list(states)"
   ]
  },
  {
   "cell_type": "code",
   "execution_count": 13,
   "id": "3e6efc0c",
   "metadata": {},
   "outputs": [
    {
     "data": {
      "text/plain": [
       "38"
      ]
     },
     "execution_count": 13,
     "metadata": {},
     "output_type": "execute_result"
    }
   ],
   "source": [
    "len(states)"
   ]
  },
  {
   "cell_type": "code",
   "execution_count": 14,
   "id": "6a16c2b8",
   "metadata": {},
   "outputs": [],
   "source": [
    "tr_counts = np.zeros( (len(states), len(states)))"
   ]
  },
  {
   "cell_type": "code",
   "execution_count": 15,
   "id": "fef9271b",
   "metadata": {},
   "outputs": [
    {
     "name": "stdout",
     "output_type": "stream",
     "text": [
      "Transition Counts:\n",
      " [[9.78730e+04 0.00000e+00 6.30000e+01 ... 3.51900e+03 5.65000e+02\n",
      "  1.03360e+04]\n",
      " [0.00000e+00 2.00000e+00 0.00000e+00 ... 1.00000e+00 0.00000e+00\n",
      "  1.00000e+00]\n",
      " [1.45000e+02 0.00000e+00 9.80000e+02 ... 1.06000e+02 7.00000e+00\n",
      "  3.30000e+02]\n",
      " ...\n",
      " [3.26600e+03 0.00000e+00 5.30000e+01 ... 1.01976e+05 9.00000e+02\n",
      "  2.33360e+04]\n",
      " [3.91000e+02 0.00000e+00 6.00000e+00 ... 1.25500e+03 3.91800e+03\n",
      "  1.40200e+03]\n",
      " [9.83300e+03 0.00000e+00 1.98000e+02 ... 3.27300e+04 1.67000e+03\n",
      "  2.42469e+05]]\n"
     ]
    }
   ],
   "source": [
    "for trip in data:\n",
    "    seq = np.array(trip)\n",
    "    for t in range(1,len(seq)):\n",
    "        x_tm1 = seq[t-1]\n",
    "        x_t = seq[t]\n",
    "\n",
    "        index_from = states.index(x_tm1)\n",
    "        index_to = states.index(x_t)\n",
    "\n",
    "        tr_counts[index_to, index_from] += 1\n",
    "\n",
    "print('Transition Counts:\\n', tr_counts)"
   ]
  },
  {
   "cell_type": "code",
   "execution_count": 16,
   "id": "965f2516",
   "metadata": {},
   "outputs": [
    {
     "name": "stdout",
     "output_type": "stream",
     "text": [
      "State proportion: \n",
      "\n",
      "[[5.077810e+05 1.200000e+01 1.431100e+04 1.058700e+05 3.000000e+00\n",
      "  3.603000e+03 8.010000e+03 1.743200e+05 1.803502e+06 1.224335e+06\n",
      "  5.791000e+04 7.252200e+04 1.038800e+04 2.292350e+05 1.000000e+00\n",
      "  3.705730e+05 4.930000e+02 4.415730e+05 1.627100e+05 3.168450e+05\n",
      "  2.797710e+06 5.017520e+05 8.740570e+05 5.505930e+05 1.978286e+06\n",
      "  3.851989e+06 2.171460e+05 6.544000e+05 3.952900e+05 8.886410e+05\n",
      "  1.112820e+05 3.701250e+05 5.102590e+05 1.063810e+05 2.363902e+06\n",
      "  4.086350e+05 3.859100e+04 8.393600e+05]]\n"
     ]
    }
   ],
   "source": [
    "sums = tr_counts.sum(axis = 0, keepdims=True)\n",
    "print('State proportion: \\n')\n",
    "print(sums)"
   ]
  },
  {
   "cell_type": "code",
   "execution_count": 17,
   "id": "20c4d657",
   "metadata": {},
   "outputs": [
    {
     "name": "stdout",
     "output_type": "stream",
     "text": [
      "Transition Proportions:\n",
      "\n",
      "                     Kips Bay  Governors Island  Inwood  Chinatown  \\\n",
      "Kips Bay                 0.19              0.00    0.00       0.02   \n",
      "Governors Island         0.00              0.17    0.00       0.00   \n",
      "Inwood                   0.00              0.00    0.07       0.00   \n",
      "Chinatown                0.00              0.00    0.00       0.13   \n",
      "Ellis Island             0.00              0.00    0.00       0.00   \n",
      "Randall's Island         0.00              0.00    0.00       0.00   \n",
      "Roosevelt Island         0.00              0.00    0.00       0.00   \n",
      "NoHo                     0.01              0.00    0.00       0.02   \n",
      "Upper West Side          0.02              0.00    0.18       0.01   \n",
      "Hell's Kitchen           0.02              0.00    0.10       0.02   \n",
      "Civic Center             0.00              0.00    0.00       0.02   \n",
      "Washington Heights       0.00              0.00    0.08       0.00   \n",
      "Two Bridges              0.00              0.00    0.00       0.00   \n",
      "Battery Park City        0.00              0.00    0.00       0.01   \n",
      "Liberty Island           0.00              0.00    0.00       0.00   \n",
      "Lower East Side          0.02              0.00    0.00       0.10   \n",
      "Marble Hill              0.00              0.00    0.00       0.00   \n",
      "Financial District       0.01              0.08    0.00       0.06   \n",
      "Morningside Heights      0.00              0.00    0.12       0.00   \n",
      "East Harlem              0.01              0.00    0.03       0.00   \n",
      "Upper East Side          0.07              0.00    0.06       0.02   \n",
      "Gramercy                 0.05              0.08    0.00       0.02   \n",
      "Theater District         0.02              0.00    0.03       0.02   \n",
      "SoHo                     0.01              0.00    0.00       0.06   \n",
      "Chelsea                  0.07              0.17    0.04       0.05   \n",
      "Midtown                  0.19              0.00    0.06       0.06   \n",
      "Harlem                   0.00              0.00    0.08       0.00   \n",
      "Murray Hill              0.09              0.00    0.01       0.01   \n",
      "Flatiron District        0.03              0.00    0.00       0.01   \n",
      "East Village             0.06              0.08    0.01       0.08   \n",
      "Stuyvesant Town          0.01              0.08    0.00       0.01   \n",
      "Central Park             0.00              0.00    0.01       0.00   \n",
      "Greenwich Village        0.02              0.00    0.00       0.02   \n",
      "Nolita                   0.00              0.00    0.00       0.02   \n",
      "Outside Manhattan        0.05              0.33    0.07       0.11   \n",
      "Tribeca                  0.01              0.00    0.00       0.05   \n",
      "Little Italy             0.00              0.00    0.00       0.03   \n",
      "West Village             0.02              0.00    0.01       0.03   \n",
      "\n",
      "                     Ellis Island  Randall's Island  Roosevelt Island  NoHo  \\\n",
      "Kips Bay                     0.00              0.00              0.02  0.03   \n",
      "Governors Island             0.00              0.00              0.00  0.00   \n",
      "Inwood                       0.00              0.00              0.00  0.00   \n",
      "Chinatown                    0.00              0.00              0.00  0.01   \n",
      "Ellis Island                 0.00              0.00              0.00  0.00   \n",
      "Randall's Island             0.00              0.18              0.00  0.00   \n",
      "Roosevelt Island             0.00              0.00              0.12  0.00   \n",
      "NoHo                         0.00              0.00              0.00  0.14   \n",
      "Upper West Side              0.00              0.06              0.02  0.02   \n",
      "Hell's Kitchen               0.00              0.01              0.02  0.02   \n",
      "Civic Center                 0.00              0.00              0.00  0.00   \n",
      "Washington Heights           0.00              0.00              0.00  0.00   \n",
      "Two Bridges                  0.00              0.00              0.00  0.00   \n",
      "Battery Park City            0.00              0.00              0.00  0.01   \n",
      "Liberty Island               0.00              0.00              0.00  0.00   \n",
      "Lower East Side              0.00              0.00              0.01  0.02   \n",
      "Marble Hill                  0.00              0.00              0.00  0.00   \n",
      "Financial District           0.00              0.00              0.01  0.02   \n",
      "Morningside Heights          0.00              0.01              0.00  0.00   \n",
      "East Harlem                  0.00              0.17              0.01  0.00   \n",
      "Upper East Side              0.00              0.22              0.19  0.04   \n",
      "Gramercy                     0.00              0.00              0.01  0.05   \n",
      "Theater District             0.00              0.01              0.02  0.01   \n",
      "SoHo                         0.00              0.00              0.01  0.05   \n",
      "Chelsea                      0.00              0.01              0.03  0.08   \n",
      "Midtown                      0.00              0.06              0.15  0.09   \n",
      "Harlem                       0.00              0.02              0.00  0.00   \n",
      "Murray Hill                  0.00              0.01              0.02  0.03   \n",
      "Flatiron District            0.00              0.00              0.01  0.02   \n",
      "East Village                 0.00              0.01              0.02  0.12   \n",
      "Stuyvesant Town              0.00              0.00              0.00  0.01   \n",
      "Central Park                 0.00              0.02              0.01  0.00   \n",
      "Greenwich Village            0.00              0.00              0.01  0.06   \n",
      "Nolita                       0.00              0.00              0.00  0.01   \n",
      "Outside Manhattan            0.33              0.17              0.28  0.08   \n",
      "Tribeca                      0.33              0.00              0.01  0.02   \n",
      "Little Italy                 0.33              0.00              0.00  0.00   \n",
      "West Village                 0.00              0.01              0.01  0.05   \n",
      "\n",
      "                     Upper West Side  Hell's Kitchen  ...  Flatiron District  \\\n",
      "Kips Bay                        0.00            0.01  ...               0.04   \n",
      "Governors Island                0.00            0.00  ...               0.00   \n",
      "Inwood                          0.00            0.00  ...               0.00   \n",
      "Chinatown                       0.00            0.00  ...               0.00   \n",
      "Ellis Island                    0.00            0.00  ...               0.00   \n",
      "Randall's Island                0.00            0.00  ...               0.00   \n",
      "Roosevelt Island                0.00            0.00  ...               0.00   \n",
      "NoHo                            0.00            0.00  ...               0.01   \n",
      "Upper West Side                 0.42            0.10  ...               0.02   \n",
      "Hell's Kitchen                  0.08            0.28  ...               0.03   \n",
      "Civic Center                    0.00            0.00  ...               0.00   \n",
      "Washington Heights              0.01            0.00  ...               0.00   \n",
      "Two Bridges                     0.00            0.00  ...               0.00   \n",
      "Battery Park City               0.00            0.01  ...               0.01   \n",
      "Liberty Island                  0.00            0.00  ...               0.00   \n",
      "Lower East Side                 0.00            0.01  ...               0.01   \n",
      "Marble Hill                     0.00            0.00  ...               0.00   \n",
      "Financial District              0.00            0.01  ...               0.01   \n",
      "Morningside Heights             0.02            0.00  ...               0.00   \n",
      "East Harlem                     0.01            0.01  ...               0.00   \n",
      "Upper East Side                 0.11            0.05  ...               0.05   \n",
      "Gramercy                        0.00            0.01  ...               0.05   \n",
      "Theater District                0.04            0.08  ...               0.03   \n",
      "SoHo                            0.00            0.01  ...               0.02   \n",
      "Chelsea                         0.04            0.11  ...               0.15   \n",
      "Midtown                         0.12            0.15  ...               0.16   \n",
      "Harlem                          0.02            0.01  ...               0.00   \n",
      "Murray Hill                     0.01            0.01  ...               0.04   \n",
      "Flatiron District               0.00            0.01  ...               0.16   \n",
      "East Village                    0.01            0.01  ...               0.04   \n",
      "Stuyvesant Town                 0.00            0.00  ...               0.01   \n",
      "Central Park                    0.03            0.01  ...               0.00   \n",
      "Greenwich Village               0.01            0.01  ...               0.04   \n",
      "Nolita                          0.00            0.00  ...               0.00   \n",
      "Outside Manhattan               0.04            0.05  ...               0.05   \n",
      "Tribeca                         0.00            0.01  ...               0.01   \n",
      "Little Italy                    0.00            0.00  ...               0.00   \n",
      "West Village                    0.01            0.03  ...               0.03   \n",
      "\n",
      "                     East Village  Stuyvesant Town  Central Park  \\\n",
      "Kips Bay                     0.04             0.09          0.00   \n",
      "Governors Island             0.00             0.00          0.00   \n",
      "Inwood                       0.00             0.00          0.00   \n",
      "Chinatown                    0.01             0.00          0.00   \n",
      "Ellis Island                 0.00             0.00          0.00   \n",
      "Randall's Island             0.00             0.00          0.00   \n",
      "Roosevelt Island             0.00             0.00          0.00   \n",
      "NoHo                         0.02             0.01          0.00   \n",
      "Upper West Side              0.02             0.02          0.22   \n",
      "Hell's Kitchen               0.02             0.02          0.04   \n",
      "Civic Center                 0.00             0.00          0.00   \n",
      "Washington Heights           0.00             0.00          0.00   \n",
      "Two Bridges                  0.00             0.00          0.00   \n",
      "Battery Park City            0.01             0.00          0.00   \n",
      "Liberty Island               0.00             0.00          0.00   \n",
      "Lower East Side              0.03             0.02          0.00   \n",
      "Marble Hill                  0.00             0.00          0.00   \n",
      "Financial District           0.02             0.02          0.00   \n",
      "Morningside Heights          0.00             0.00          0.01   \n",
      "East Harlem                  0.01             0.01          0.02   \n",
      "Upper East Side              0.04             0.06          0.20   \n",
      "Gramercy                     0.07             0.09          0.01   \n",
      "Theater District             0.01             0.01          0.04   \n",
      "SoHo                         0.03             0.01          0.01   \n",
      "Chelsea                      0.07             0.07          0.03   \n",
      "Midtown                      0.09             0.13          0.19   \n",
      "Harlem                       0.00             0.00          0.01   \n",
      "Murray Hill                  0.03             0.04          0.01   \n",
      "Flatiron District            0.02             0.02          0.01   \n",
      "East Village                 0.27             0.10          0.01   \n",
      "Stuyvesant Town              0.02             0.14          0.00   \n",
      "Central Park                 0.00             0.00          0.14   \n",
      "Greenwich Village            0.04             0.02          0.01   \n",
      "Nolita                       0.01             0.00          0.00   \n",
      "Outside Manhattan            0.08             0.05          0.03   \n",
      "Tribeca                      0.01             0.01          0.00   \n",
      "Little Italy                 0.00             0.00          0.00   \n",
      "West Village                 0.04             0.02          0.01   \n",
      "\n",
      "                     Greenwich Village  Nolita  Outside Manhattan  Tribeca  \\\n",
      "Kips Bay                          0.02    0.02               0.01     0.01   \n",
      "Governors Island                  0.00    0.00               0.00     0.00   \n",
      "Inwood                            0.00    0.00               0.00     0.00   \n",
      "Chinatown                         0.01    0.01               0.01     0.01   \n",
      "Ellis Island                      0.00    0.00               0.00     0.00   \n",
      "Randall's Island                  0.00    0.00               0.00     0.00   \n",
      "Roosevelt Island                  0.00    0.00               0.00     0.00   \n",
      "NoHo                              0.03    0.05               0.01     0.01   \n",
      "Upper West Side                   0.02    0.02               0.02     0.02   \n",
      "Hell's Kitchen                    0.02    0.02               0.02     0.03   \n",
      "Civic Center                      0.00    0.00               0.01     0.01   \n",
      "Washington Heights                0.00    0.00               0.00     0.00   \n",
      "Two Bridges                       0.00    0.00               0.00     0.00   \n",
      "Battery Park City                 0.01    0.01               0.01     0.05   \n",
      "Liberty Island                    0.00    0.00               0.00     0.00   \n",
      "Lower East Side                   0.02    0.05               0.04     0.02   \n",
      "Marble Hill                       0.00    0.00               0.00     0.00   \n",
      "Financial District                0.02    0.02               0.02     0.05   \n",
      "Morningside Heights               0.00    0.00               0.00     0.00   \n",
      "East Harlem                       0.00    0.00               0.01     0.00   \n",
      "Upper East Side                   0.03    0.03               0.06     0.03   \n",
      "Gramercy                          0.03    0.03               0.01     0.01   \n",
      "Theater District                  0.02    0.01               0.02     0.02   \n",
      "SoHo                              0.05    0.09               0.02     0.09   \n",
      "Chelsea                           0.11    0.06               0.03     0.08   \n",
      "Midtown                           0.08    0.07               0.08     0.07   \n",
      "Harlem                            0.00    0.00               0.01     0.00   \n",
      "Murray Hill                       0.02    0.02               0.01     0.01   \n",
      "Flatiron District                 0.02    0.01               0.01     0.01   \n",
      "East Village                      0.07    0.09               0.03     0.03   \n",
      "Stuyvesant Town                   0.01    0.01               0.00     0.00   \n",
      "Central Park                      0.00    0.00               0.00     0.00   \n",
      "Greenwich Village                 0.22    0.04               0.01     0.03   \n",
      "Nolita                            0.01    0.16               0.01     0.01   \n",
      "Outside Manhattan                 0.06    0.11               0.51     0.07   \n",
      "Tribeca                           0.02    0.02               0.02     0.25   \n",
      "Little Italy                      0.00    0.01               0.00     0.00   \n",
      "West Village                      0.08    0.05               0.01     0.08   \n",
      "\n",
      "                     Little Italy  West Village  \n",
      "Kips Bay                     0.01          0.01  \n",
      "Governors Island             0.00          0.00  \n",
      "Inwood                       0.00          0.00  \n",
      "Chinatown                    0.03          0.00  \n",
      "Ellis Island                 0.00          0.00  \n",
      "Randall's Island             0.00          0.00  \n",
      "Roosevelt Island             0.00          0.00  \n",
      "NoHo                         0.03          0.01  \n",
      "Upper West Side              0.02          0.02  \n",
      "Hell's Kitchen               0.03          0.04  \n",
      "Civic Center                 0.01          0.00  \n",
      "Washington Heights           0.00          0.00  \n",
      "Two Bridges                  0.00          0.00  \n",
      "Battery Park City            0.01          0.01  \n",
      "Liberty Island               0.00          0.00  \n",
      "Lower East Side              0.04          0.01  \n",
      "Marble Hill                  0.00          0.00  \n",
      "Financial District           0.03          0.02  \n",
      "Morningside Heights          0.00          0.00  \n",
      "East Harlem                  0.00          0.00  \n",
      "Upper East Side              0.03          0.03  \n",
      "Gramercy                     0.02          0.02  \n",
      "Theater District             0.03          0.02  \n",
      "SoHo                         0.11          0.05  \n",
      "Chelsea                      0.06          0.15  \n",
      "Midtown                      0.08          0.08  \n",
      "Harlem                       0.00          0.00  \n",
      "Murray Hill                  0.02          0.01  \n",
      "Flatiron District            0.01          0.02  \n",
      "East Village                 0.06          0.04  \n",
      "Stuyvesant Town              0.00          0.00  \n",
      "Central Park                 0.00          0.00  \n",
      "Greenwich Village            0.03          0.05  \n",
      "Nolita                       0.08          0.01  \n",
      "Outside Manhattan            0.08          0.05  \n",
      "Tribeca                      0.02          0.03  \n",
      "Little Italy                 0.10          0.00  \n",
      "West Village                 0.04          0.29  \n",
      "\n",
      "[38 rows x 38 columns]\n"
     ]
    }
   ],
   "source": [
    "tr_pr = np.divide(tr_counts, sums,\n",
    "                  out = np.zeros_like(tr_counts),\n",
    "                  where=sums!=0)\n",
    "\n",
    "print('Transition Proportions:\\n')\n",
    "tr_df = pd.DataFrame(np.round(tr_pr,2), index = states, columns=states)\n",
    "print(tr_df)\n"
   ]
  },
  {
   "cell_type": "code",
   "execution_count": 19,
   "id": "c8320790",
   "metadata": {},
   "outputs": [
    {
     "data": {
      "text/plain": [
       "(array([ 0.5,  1.5,  2.5,  3.5,  4.5,  5.5,  6.5,  7.5,  8.5,  9.5, 10.5,\n",
       "        11.5, 12.5, 13.5, 14.5, 15.5, 16.5, 17.5, 18.5, 19.5, 20.5, 21.5,\n",
       "        22.5, 23.5, 24.5, 25.5, 26.5, 27.5, 28.5, 29.5, 30.5, 31.5, 32.5,\n",
       "        33.5, 34.5, 35.5, 36.5, 37.5]),\n",
       " [Text(0.5, 0, 'Kips Bay'),\n",
       "  Text(1.5, 0, 'Governors Island'),\n",
       "  Text(2.5, 0, 'Inwood'),\n",
       "  Text(3.5, 0, 'Chinatown'),\n",
       "  Text(4.5, 0, 'Ellis Island'),\n",
       "  Text(5.5, 0, \"Randall's Island\"),\n",
       "  Text(6.5, 0, 'Roosevelt Island'),\n",
       "  Text(7.5, 0, 'NoHo'),\n",
       "  Text(8.5, 0, 'Upper West Side'),\n",
       "  Text(9.5, 0, \"Hell's Kitchen\"),\n",
       "  Text(10.5, 0, 'Civic Center'),\n",
       "  Text(11.5, 0, 'Washington Heights'),\n",
       "  Text(12.5, 0, 'Two Bridges'),\n",
       "  Text(13.5, 0, 'Battery Park City'),\n",
       "  Text(14.5, 0, 'Liberty Island'),\n",
       "  Text(15.5, 0, 'Lower East Side'),\n",
       "  Text(16.5, 0, 'Marble Hill'),\n",
       "  Text(17.5, 0, 'Financial District'),\n",
       "  Text(18.5, 0, 'Morningside Heights'),\n",
       "  Text(19.5, 0, 'East Harlem'),\n",
       "  Text(20.5, 0, 'Upper East Side'),\n",
       "  Text(21.5, 0, 'Gramercy'),\n",
       "  Text(22.5, 0, 'Theater District'),\n",
       "  Text(23.5, 0, 'SoHo'),\n",
       "  Text(24.5, 0, 'Chelsea'),\n",
       "  Text(25.5, 0, 'Midtown'),\n",
       "  Text(26.5, 0, 'Harlem'),\n",
       "  Text(27.5, 0, 'Murray Hill'),\n",
       "  Text(28.5, 0, 'Flatiron District'),\n",
       "  Text(29.5, 0, 'East Village'),\n",
       "  Text(30.5, 0, 'Stuyvesant Town'),\n",
       "  Text(31.5, 0, 'Central Park'),\n",
       "  Text(32.5, 0, 'Greenwich Village'),\n",
       "  Text(33.5, 0, 'Nolita'),\n",
       "  Text(34.5, 0, 'Outside Manhattan'),\n",
       "  Text(35.5, 0, 'Tribeca'),\n",
       "  Text(36.5, 0, 'Little Italy'),\n",
       "  Text(37.5, 0, 'West Village')])"
      ]
     },
     "execution_count": 19,
     "metadata": {},
     "output_type": "execute_result"
    },
    {
     "data": {
      "image/png": "[encoded data removed]",
      "text/plain": [
       "<Figure size 1200x1000 with 2 Axes>"
      ]
     },
     "metadata": {},
     "output_type": "display_data"
    }
   ],
   "source": [
    "import matplotlib.pyplot as plt\n",
    "\n",
    "plt.figure(figsize=(12,10))\n",
    "sns.heatmap(tr_pr,\n",
    "            cmap = 'Blues',\n",
    "            square =True,\n",
    "            xticklabels=states,\n",
    "            yticklabels=states,\n",
    "            cbar_kws={'label': 'Transition Probability'})\n",
    "\n",
    "plt.title('Transition Probabilities')\n",
    "plt.xlabel('...To State')\n",
    "plt.ylabel('From State...')\n",
    "plt.xticks(rotation=90)"
   ]
  },
  {
   "cell_type": "markdown",
   "id": "5d68c160",
   "metadata": {},
   "source": [
    "The most common routes correspond to neighborhoods with the highest transition probabilities in the matrix. \n",
    "The top routes are primarily trips that either stay within the same neighborhood (Gramercy → Gramercy) \n",
    "or between very close neighborhoods in Midtown and Lower Manhattan. This suggests that most taxi trips are short, \n",
    "concentrated in a few busy districts.\n"
   ]
  },
  {
   "cell_type": "markdown",
   "id": "bb0e70dd",
   "metadata": {},
   "source": [
    "A first-order Markov chain assumes that the probability of the next state depends only on the current state, not on the full history of previous states. \n",
    "For taxicab movement, this is a reasonable assumption because the cab’s next destination depends primarily on its current location (e.g., picking up the next passenger nearby), not where it was two or three trips ago. \n",
    "\n",
    "Including more history (order 2 or higher) usually doesn’t add much predictive power, because older locations have little influence on the immediate next trip. That’s why modeling taxicab trajectories as a first-order process is both simpler and effective.\n"
   ]
  },
  {
   "cell_type": "code",
   "execution_count": 103,
   "id": "c4eff340",
   "metadata": {},
   "outputs": [
    {
     "name": "stdout",
     "output_type": "stream",
     "text": [
      "After 2 trips:\n",
      "  Midtown: 0.173\n",
      "  Hell's Kitchen: 0.119\n",
      "  Chelsea: 0.109\n",
      "  Upper West Side: 0.099\n",
      "  Upper East Side: 0.087\n",
      "\n",
      "After 3 trips:\n",
      "  Midtown: 0.173\n",
      "  Upper East Side: 0.108\n",
      "  Chelsea: 0.097\n",
      "  Upper West Side: 0.092\n",
      "  Outside Manhattan: 0.090\n",
      "\n",
      "After 5 trips:\n",
      "  Midtown: 0.169\n",
      "  Upper East Side: 0.120\n",
      "  Outside Manhattan: 0.099\n",
      "  Chelsea: 0.088\n",
      "  Upper West Side: 0.083\n",
      "\n",
      "After 10 trips:\n",
      "  Midtown: 0.168\n",
      "  Upper East Side: 0.122\n",
      "  Outside Manhattan: 0.103\n",
      "  Chelsea: 0.086\n",
      "  Upper West Side: 0.079\n",
      "\n"
     ]
    }
   ],
   "source": [
    "start_state = states.index(\"Hell's Kitchen\")\n",
    "\n",
    "p0 = np.zeros(len(states))\n",
    "p0[start_state] = 1\n",
    "\n",
    "steps = [2, 3, 5, 10]\n",
    "for s in steps:\n",
    "    p = p0.copy()\n",
    "    for _ in range(s):\n",
    "        p = tr_pr @ p                               \n",
    "\n",
    "    \n",
    "    top = np.argsort(p)[::-1][:5]\n",
    "    print(f\"After {s} trips:\")\n",
    "    for idx in top:\n",
    "        print(f\"  {states[idx]}: {p[idx]:.3f}\")\n",
    "    print()\n"
   ]
  },
  {
   "cell_type": "code",
   "execution_count": 104,
   "id": "597c0960",
   "metadata": {},
   "outputs": [
    {
     "name": "stdout",
     "output_type": "stream",
     "text": [
      "Step 1:\n",
      "  Midtown: 0.140\n",
      "  Outside Manhattan: 0.107\n",
      "  Upper East Side: 0.099\n",
      "  Chelsea: 0.081\n",
      "  Upper West Side: 0.076\n",
      "\n",
      "Step 2:\n",
      "  Midtown: 0.156\n",
      "  Upper East Side: 0.110\n",
      "  Outside Manhattan: 0.107\n",
      "  Chelsea: 0.085\n",
      "  Upper West Side: 0.077\n",
      "\n",
      "Step 5:\n",
      "  Midtown: 0.166\n",
      "  Upper East Side: 0.120\n",
      "  Outside Manhattan: 0.104\n",
      "  Chelsea: 0.086\n",
      "  Upper West Side: 0.078\n",
      "\n",
      "Step 10:\n",
      "  Midtown: 0.168\n",
      "  Upper East Side: 0.122\n",
      "  Outside Manhattan: 0.103\n",
      "  Chelsea: 0.086\n",
      "  Upper West Side: 0.078\n",
      "\n",
      "Step 20:\n",
      "  Midtown: 0.168\n",
      "  Upper East Side: 0.122\n",
      "  Outside Manhattan: 0.103\n",
      "  Chelsea: 0.086\n",
      "  Upper West Side: 0.079\n",
      "\n"
     ]
    }
   ],
   "source": [
    "p = np.ones(len(states)) / len(states)  \n",
    "for step in range(30):                 \n",
    "    p = tr_pr @ p\n",
    "    if step in [1, 2, 5, 10, 20, 30]:   \n",
    "        print(f\"Step {step}:\")\n",
    "        top = np.argsort(p)[::-1][:5]\n",
    "        for idx in top:\n",
    "            print(f\"  {states[idx]}: {p[idx]:.3f}\")\n",
    "        print()\n"
   ]
  },
  {
   "cell_type": "markdown",
   "id": "e6a74140",
   "metadata": {},
   "source": [
    "We initialize the starting distribution as uniform, meaning the cab is equally likely to begin in any neighborhood. We then multiply this distribution by the transition matrix over multiple steps to observe how the probabilities evolve.\n",
    "\n",
    "We inspect the top 5 neighborhoods with the highest probabilities at steps 1, 2, 5, 10, 20, and 30. After a sufficient number of steps, the distribution stabilizes, indicating the stationary distribution of the Markov chain.\n",
    "\n",
    "This shows where cabs spend the most time working in Manhattan in the long run, regardless of where they start. Midtown, Outside Manhattan, and Upper East Side emerge as the most likely long-run locations."
   ]
  }
 ],
 "metadata": {
  "kernelspec": {
   "display_name": "base",
   "language": "python",
   "name": "python3"
  },
  "language_info": {
   "codemirror_mode": {
    "name": "ipython",
    "version": 3
   },
   "file_extension": ".py",
   "mimetype": "text/x-python",
   "name": "python",
   "nbconvert_exporter": "python",
   "pygments_lexer": "ipython3",
   "version": "3.13.5"
  }
 },
 "nbformat": 4,
 "nbformat_minor": 5
}
